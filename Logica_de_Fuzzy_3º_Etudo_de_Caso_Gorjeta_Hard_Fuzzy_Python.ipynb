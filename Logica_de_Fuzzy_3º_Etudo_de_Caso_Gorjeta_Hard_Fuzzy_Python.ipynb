{
  "nbformat": 4,
  "nbformat_minor": 0,
  "metadata": {
    "colab": {
      "provenance": [],
      "authorship_tag": "ABX9TyOzZl07j7J4YAUm7MSgQQvd"
    },
    "kernelspec": {
      "name": "python3",
      "display_name": "Python 3"
    },
    "language_info": {
      "name": "python"
    }
  },
  "cells": [
    {
      "cell_type": "markdown",
      "source": [
        "\n",
        "\n",
        "**LOGICA DE FUZZY COM PYTHON: ESTUDO DE CASO GORJETA **\n",
        "\n",
        "# **Antecedentes ( ENTRADAS )**\n",
        "\n",
        "Servio: que nota você daria para o serviço, em uma escala de 0 a 10\n",
        "\n",
        "    * Ruim, Aceitável, ótimo\n",
        "\n",
        "Qualidade da comida: quão boa estava a comida, em uma escala de 0 a 10\n",
        "\n",
        "    * Ruim, boa, Saborosa\n",
        "\n",
        "# **Consequentes ( SAÍDAS )**\n",
        "\n",
        "Gorjetas: quanta gorjeta você daria, entre 0% e 20%\n",
        "\n",
        "    * Baixa, média, alta\n",
        "\n",
        "# **REGRAS!!**\n",
        "\n",
        "  * Se a qualidade da comida for ruim ou o serviço for ruim então, a gorjeta será baixa.\n",
        "  * Se o serviço for médio então, a gorjeta será média\n",
        "\n",
        "  * Se o serviço for bom e a qualidade da comida for saborosa, então a gorjeta sera alta\n",
        "\n"
      ],
      "metadata": {
        "id": "zqZPVoMXVsE_"
      }
    },
    {
      "cell_type": "markdown",
      "source": [
        "# **IMPORTAÇÃO DA BIBLIOTECAS **"
      ],
      "metadata": {
        "id": "9YMTmudlWdb9"
      }
    },
    {
      "cell_type": "code",
      "execution_count": null,
      "metadata": {
        "colab": {
          "base_uri": "https://localhost:8080/"
        },
        "id": "p09MJH6gVXbs",
        "outputId": "81cb6266-925f-4ab3-ae25-5503d9764886"
      },
      "outputs": [
        {
          "output_type": "stream",
          "name": "stdout",
          "text": [
            "Collecting scikit-fuzzy\n",
            "  Downloading scikit-fuzzy-0.4.2.tar.gz (993 kB)\n",
            "\u001b[2K     \u001b[90m━━━━━━━━━━━━━━━━━━━━━━━━━━━━━━━━━━━━━━━━\u001b[0m \u001b[32m994.0/994.0 kB\u001b[0m \u001b[31m8.3 MB/s\u001b[0m eta \u001b[36m0:00:00\u001b[0m\n",
            "\u001b[?25h  Preparing metadata (setup.py) ... \u001b[?25l\u001b[?25hdone\n",
            "Requirement already satisfied: numpy>=1.6.0 in /usr/local/lib/python3.10/dist-packages (from scikit-fuzzy) (1.25.2)\n",
            "Requirement already satisfied: scipy>=0.9.0 in /usr/local/lib/python3.10/dist-packages (from scikit-fuzzy) (1.11.4)\n",
            "Requirement already satisfied: networkx>=1.9.0 in /usr/local/lib/python3.10/dist-packages (from scikit-fuzzy) (3.3)\n",
            "Building wheels for collected packages: scikit-fuzzy\n",
            "  Building wheel for scikit-fuzzy (setup.py) ... \u001b[?25l\u001b[?25hdone\n",
            "  Created wheel for scikit-fuzzy: filename=scikit_fuzzy-0.4.2-py3-none-any.whl size=894078 sha256=ec9804cb3521c51d40c5d8ecc8ee79c4c1c7f206a61d976c7109dc3b9f75e7e8\n",
            "  Stored in directory: /root/.cache/pip/wheels/4f/86/1b/dfd97134a2c8313e519bcebd95d3fedc7be7944db022094bc8\n",
            "Successfully built scikit-fuzzy\n"
          ]
        }
      ],
      "source": [
        "!pip install scikit-fuzzy"
      ]
    },
    {
      "cell_type": "code",
      "source": [
        "import numpy as np\n",
        "import skfuzzy as fuzzy\n",
        "import matplotlib.pyplot as plt"
      ],
      "metadata": {
        "id": "sYc7NaEjq3IF"
      },
      "execution_count": null,
      "outputs": []
    },
    {
      "cell_type": "markdown",
      "source": [
        "**ANTECENDENTES E CONSEQUENTES**\n",
        "\n",
        "\n"
      ],
      "metadata": {
        "id": "_MTa7r5xq-XV"
      }
    },
    {
      "cell_type": "code",
      "source": [],
      "metadata": {
        "id": "uSMmwqIZrjbc"
      },
      "execution_count": null,
      "outputs": []
    },
    {
      "cell_type": "code",
      "source": [
        "np.arange(0, 11, 1)\n"
      ],
      "metadata": {
        "id": "vETr76D-rjrC"
      },
      "execution_count": null,
      "outputs": []
    },
    {
      "cell_type": "code",
      "source": [
        "np.arange(0, 11, 1)"
      ],
      "metadata": {
        "id": "fhQXH2P3roze"
      },
      "execution_count": null,
      "outputs": []
    },
    {
      "cell_type": "code",
      "source": [
        "#criando as variaveis com array de 10 possições!\n",
        "#intervalos possiveis para os resultados!!\n",
        "x_comida = np.arange(0, 11, 1)\n",
        "x_servico = np.arange(0, 11, 1)\n",
        "x_gorjeta = np.arange(0, 21, 1)"
      ],
      "metadata": {
        "id": "zD_ua-qPrF_b"
      },
      "execution_count": null,
      "outputs": []
    },
    {
      "cell_type": "code",
      "source": [
        "x_comida, x_servico, x_gorjeta"
      ],
      "metadata": {
        "id": "GJrHIIc9rqV7"
      },
      "execution_count": null,
      "outputs": []
    },
    {
      "cell_type": "markdown",
      "source": [
        "QUALIDADE DA COMIDA!!"
      ],
      "metadata": {
        "id": "g_62_J6MsR1_"
      }
    },
    {
      "cell_type": "code",
      "source": [
        "y_comida_ruim = fuzzy.trimf(x_comida, [0, 0, 5])\n",
        "y_comida_boa = fuzzy.trimf(x_comida, [0, 5, 10])\n",
        "y_comida_saborosa = fuzzy.trimf(x_comida, [5, 10, 10])"
      ],
      "metadata": {
        "id": "OBq4oirssRQA"
      },
      "execution_count": null,
      "outputs": []
    },
    {
      "cell_type": "code",
      "source": [
        "#QUANDO DEFINIMOS UMA PARAMETRO [0, 0, 5], O VALOR DE DECAIMENTO SERA DEPOIS DE 5 POSSIÇÕES, SENDO QUE NOSSO ARRAY SERIA DE 10\n",
        "#TEREMOS O SEGUINTE RESULTADO:\n",
        "y_comida_ruim, y_comida_boa, y_comida_saborosa"
      ],
      "metadata": {
        "id": "oc_K3CXfsbGc"
      },
      "execution_count": null,
      "outputs": []
    },
    {
      "cell_type": "code",
      "source": [
        "#analisando os valores para grafico!\n",
        "x_comida, y_comida_ruim"
      ],
      "metadata": {
        "id": "c98Mx8ydtott"
      },
      "execution_count": null,
      "outputs": []
    },
    {
      "cell_type": "code",
      "source": [
        "plt.plot(x_comida, y_comida_ruim, 'bo', label = 'Ruim')\n",
        "plt.plot(x_comida, y_comida_ruim)#exibir a linha com leable!\n",
        "plt.legend();#remover o erro que aparece de Metasploit!\n"
      ],
      "metadata": {
        "id": "UzbEuaEXt1G9"
      },
      "execution_count": null,
      "outputs": []
    },
    {
      "cell_type": "code",
      "source": [
        "x_comida, y_comida_boa"
      ],
      "metadata": {
        "id": "9P3j6C4fuuEb"
      },
      "execution_count": null,
      "outputs": []
    },
    {
      "cell_type": "code",
      "source": [
        "plt.plot(x_comida, y_comida_boa, 'bo', label = 'Boa')\n",
        "plt.plot(x_comida, y_comida_boa)#exibir a linha com leable!\n",
        "plt.legend();#remover o erro que aparece de Metasploit!\n"
      ],
      "metadata": {
        "id": "KniQ9VCzv0CH"
      },
      "execution_count": null,
      "outputs": []
    },
    {
      "cell_type": "code",
      "source": [
        "x_comida, y_comida_saborosa"
      ],
      "metadata": {
        "id": "AZ2rLJeKwRs0"
      },
      "execution_count": null,
      "outputs": []
    },
    {
      "cell_type": "code",
      "source": [
        "plt.plot(x_comida, y_comida_saborosa, 'bo', label = 'Saborosa')\n",
        "plt.plot(x_comida, y_comida_saborosa)#exibir a linha com leable!\n",
        "plt.legend();#remover o erro que aparece de Metasploit!"
      ],
      "metadata": {
        "id": "jayKmKjUwfOt"
      },
      "execution_count": null,
      "outputs": []
    },
    {
      "cell_type": "code",
      "source": [
        "#criar uma figura para nossos graficos de forma unificado!\n",
        "fig, ax = plt.subplots(figsize=(8,5))\n",
        "ax.plot(x_comida, y_comida_ruim, 'b', label = 'Ruim')\n",
        "ax.plot(x_comida, y_comida_boa, 'g', label = 'Boa')\n",
        "ax.plot(x_comida, y_comida_saborosa, 'r', label = 'Saborosa')\n",
        "ax.set_title('Qualidade da Comida')#Colocando o titulo no grafico!\n",
        "ax.legend();"
      ],
      "metadata": {
        "id": "Mp3Th_dtw-0k"
      },
      "execution_count": null,
      "outputs": []
    },
    {
      "cell_type": "markdown",
      "source": [
        "##QUALIDADE DE SERVIÇO"
      ],
      "metadata": {
        "id": "s-swF9Qx08tE"
      }
    },
    {
      "cell_type": "code",
      "source": [
        "#Criando as variaveis, e passando os valores correlacionados ao modelo de nosso grafico!\n",
        "y_servico_ruim = fuzzy.trimf(x_servico, [0, 0, 5])\n",
        "y_servico_aceitavel = fuzzy.trimf(x_servico, [0, 5, 10])\n",
        "y_servico_otimo = fuzzy.trimf(x_servico, [5, 10, 10])"
      ],
      "metadata": {
        "id": "7CdCDXoM1ACU"
      },
      "execution_count": null,
      "outputs": []
    },
    {
      "cell_type": "code",
      "source": [
        "y_servico_ruim, y_servico_aceitavel, y_servico_otimo"
      ],
      "metadata": {
        "id": "e6or-qiu1Vgy"
      },
      "execution_count": null,
      "outputs": []
    },
    {
      "cell_type": "code",
      "source": [
        "#criar uma figura para nossos graficos de forma unificado!\n",
        "fig, ax = plt.subplots(figsize=(8,5))\n",
        "ax.plot(x_servico, y_servico_ruim, 'b', label = 'Ruim')\n",
        "ax.plot(x_servico, y_servico_aceitavel, 'g', label = 'Aceitavel')\n",
        "ax.plot(x_servico, y_servico_otimo, 'r', label = 'Otimo')\n",
        "ax.set_title('Qualidade de Serviço')\n",
        "ax.legend();"
      ],
      "metadata": {
        "id": "qXz6Xzl_1zXA"
      },
      "execution_count": null,
      "outputs": []
    },
    {
      "cell_type": "markdown",
      "source": [
        "##GORJETA"
      ],
      "metadata": {
        "id": "nmElD4R61svk"
      }
    },
    {
      "cell_type": "code",
      "source": [
        "x_gorjeta"
      ],
      "metadata": {
        "id": "55ngnIxXE8GT"
      },
      "execution_count": null,
      "outputs": []
    },
    {
      "cell_type": "code",
      "source": [
        "y_gorjeta_baixa = fuzzy.trimf(x_gorjeta, [0, 0, 10])#\n",
        "y_gorjeta_media = fuzzy.trimf(x_gorjeta, [0, 10, 20])\n",
        "y_gorjeta_alta = fuzzy.trimf(x_gorjeta, [10, 20, 20])"
      ],
      "metadata": {
        "id": "xgME5TFpE1fv"
      },
      "execution_count": null,
      "outputs": []
    },
    {
      "cell_type": "code",
      "source": [
        "y_gorjeta_baixa, y_gorjeta_media, y_gorjeta_alta"
      ],
      "metadata": {
        "id": "6w9rWCRIFCWY"
      },
      "execution_count": null,
      "outputs": []
    },
    {
      "cell_type": "code",
      "source": [
        "fig, ax = plt.subplots(figsize = (8,5))\n",
        "ax.plot(x_gorjeta, y_gorjeta_baixa, 'b', label = 'Baixa')\n",
        "ax.plot(x_gorjeta, y_gorjeta_media, 'g', label = 'Media')\n",
        "ax.plot(x_gorjeta, y_gorjeta_alta, 'r', label = 'Alta')\n",
        "ax.set_title('Gorjeta')\n",
        "ax.legend();"
      ],
      "metadata": {
        "id": "7K4vFcAdFmst"
      },
      "execution_count": null,
      "outputs": []
    },
    {
      "cell_type": "markdown",
      "source": [
        "##ENTRADAS (inputs)"
      ],
      "metadata": {
        "id": "INfW4PHtHS-i"
      }
    },
    {
      "cell_type": "code",
      "source": [
        "x_comida"
      ],
      "metadata": {
        "id": "2y-FghzVHkpD"
      },
      "execution_count": null,
      "outputs": []
    },
    {
      "cell_type": "code",
      "source": [
        "y_comida_ruim"
      ],
      "metadata": {
        "id": "i5CldfUUHqPC"
      },
      "execution_count": null,
      "outputs": []
    },
    {
      "cell_type": "code",
      "source": [
        "y_comida_boa"
      ],
      "metadata": {
        "id": "Hid51VGAJlC2"
      },
      "execution_count": null,
      "outputs": []
    },
    {
      "cell_type": "code",
      "source": [
        "y_comida_saborosa"
      ],
      "metadata": {
        "id": "yF8XevUIKb1m"
      },
      "execution_count": null,
      "outputs": []
    },
    {
      "cell_type": "code",
      "source": [
        "(0.4 + 0.2) / 2"
      ],
      "metadata": {
        "id": "l3cRuq3FI5TX"
      },
      "execution_count": null,
      "outputs": []
    },
    {
      "cell_type": "code",
      "source": [
        "#NIVELAMENTOS PARA ENTRADA DOS DADOS\n",
        "#A FUNÇÃO MEMBERSHIP, SERVE PARA REALIZAR UM NIVELAMENTO, E TAMBEM, VAI EXECUTAR ALGUMAS FUNÇÕPES MATEMATICAS, PARA CONSEGUIMOS O DETERMINADO VALOR!\n",
        "\n",
        "comida_nivel_ruim = fuzzy.interp_membership(x_comida, y_comida_ruim, 8.0)\n",
        "comida_nivel_boa = fuzzy.interp_membership(x_comida, y_comida_boa, 8.0)\n",
        "comida_nivel_saborosa = fuzzy.interp_membership(x_comida, y_comida_saborosa, 8.0)\n"
      ],
      "metadata": {
        "id": "BuYy62NqHW3I"
      },
      "execution_count": null,
      "outputs": []
    },
    {
      "cell_type": "code",
      "source": [
        "comida_nivel_ruim, comida_nivel_boa, comida_nivel_saborosa"
      ],
      "metadata": {
        "id": "85fHMUJ3Hugg"
      },
      "execution_count": null,
      "outputs": []
    },
    {
      "cell_type": "code",
      "source": [
        "x_servico"
      ],
      "metadata": {
        "id": "qN3ItuypK3Nk"
      },
      "execution_count": null,
      "outputs": []
    },
    {
      "cell_type": "code",
      "source": [
        "y_servico_ruim"
      ],
      "metadata": {
        "id": "pOU6o-btK5Fk"
      },
      "execution_count": null,
      "outputs": []
    },
    {
      "cell_type": "code",
      "source": [
        "y_servico_aceitavel"
      ],
      "metadata": {
        "id": "EdhfQJM4LssD"
      },
      "execution_count": null,
      "outputs": []
    },
    {
      "cell_type": "code",
      "source": [
        "y_servico_otimo"
      ],
      "metadata": {
        "id": "IMgmHKtmLueg"
      },
      "execution_count": null,
      "outputs": []
    },
    {
      "cell_type": "code",
      "source": [
        "servico_nivel_ruim = fuzzy.interp_membership(x_servico, y_servico_ruim, 6.5)\n",
        "servico_nivel_aceitavel = fuzzy.interp_membership(x_servico, y_servico_aceitavel, 6.5)\n",
        "servico_nivel_otimo = fuzzy.interp_membership(x_servico, y_servico_otimo, 6.5)"
      ],
      "metadata": {
        "id": "h6hzKm1AK7dD"
      },
      "execution_count": null,
      "outputs": []
    },
    {
      "cell_type": "code",
      "source": [
        "servico_nivel_ruim, servico_nivel_aceitavel, servico_nivel_otimo"
      ],
      "metadata": {
        "id": "qkPtxLfYLG8i"
      },
      "execution_count": null,
      "outputs": []
    },
    {
      "cell_type": "markdown",
      "source": [
        "## REGRAS"
      ],
      "metadata": {
        "id": "fT-rzRx1MBoL"
      }
    },
    {
      "cell_type": "code",
      "source": [
        "np.fmax(10, 5)#FUNÇÃO QUE PASSA OU MELHOR, RETORNA O MAIOR VALOR!!"
      ],
      "metadata": {
        "id": "jlECIK6gMDzK"
      },
      "execution_count": null,
      "outputs": []
    },
    {
      "cell_type": "code",
      "source": [
        "np.fmin(10,4)#FUNÇÃO QUE RETORNA O MENOR VALOR!!!"
      ],
      "metadata": {
        "id": "fpOYUkgCMXWR"
      },
      "execution_count": null,
      "outputs": []
    },
    {
      "cell_type": "code",
      "source": [
        "np.fmax(5, [3, 4, 5, 6])#POSSO USAR EM ARRAY, PARA RETORNAR O MAIOR VALOR"
      ],
      "metadata": {
        "id": "QU92hoSiMoMI"
      },
      "execution_count": null,
      "outputs": []
    },
    {
      "cell_type": "code",
      "source": [
        "np.fmin(1,[3, 4, 5, 6])#POSSO PASSAR A FUNÇÃO EM ARRAY, PARA RETORNAR O MENOR VALOR!!"
      ],
      "metadata": {
        "id": "YAda27mAM95z"
      },
      "execution_count": null,
      "outputs": []
    },
    {
      "cell_type": "markdown",
      "source": [
        "REGRA 1º\n",
        "\n",
        "  * Se a quantidade da comida for ruim ou o serviço for ruim então, a gorjeta será baixa."
      ],
      "metadata": {
        "id": "Jtt3XicqAFf7"
      }
    },
    {
      "cell_type": "code",
      "source": [
        "#ACESSANDO AS VARIAVEIS PASSADAS LOGO A CIMA\n",
        "comida_nivel_ruim, servico_nivel_ruim"
      ],
      "metadata": {
        "id": "r9R8yg9MGAFT"
      },
      "execution_count": null,
      "outputs": []
    },
    {
      "cell_type": "code",
      "source": [
        "#REALIZAR A OPERAÇÃO \"ou\", REFERENTE A REGRA NUMERO 1º\n",
        "ativacao_regra1 = np.fmax(comida_nivel_ruim, servico_nivel_ruim)\n",
        "ativacao_regra1  #OBSERVAR O VALOR DA ATIVAÇÃO"
      ],
      "metadata": {
        "id": "--CGsWtDGcSA"
      },
      "execution_count": null,
      "outputs": []
    },
    {
      "cell_type": "code",
      "source": [
        "y_gorjeta_baixa"
      ],
      "metadata": {
        "id": "U244gMPmHRwd"
      },
      "execution_count": null,
      "outputs": []
    },
    {
      "cell_type": "code",
      "source": [
        "ativacao_gorjeta_baixa = np.fmin(ativacao_regra1, y_gorjeta_baixa) #VAMOS REALIZAR A COMPARAÇÃO COM TODOS OS VALORES DA MINHA LISTA (ARRAY)\n",
        "ativacao_gorjeta_baixa, ativacao_gorjeta_baixa.shape #VERIFICAR O VALOR / E VERIFICAR A QUANTIDADE DE DADOS USANDO A FUNÇÃO \"ativaccao.shape\"\n"
      ],
      "metadata": {
        "id": "SUIZJEurHF0j"
      },
      "execution_count": null,
      "outputs": []
    },
    {
      "cell_type": "markdown",
      "source": [
        "REGRA 2º\n",
        "\n",
        "  * Se o serviço for médio/aceitável, então, a gorjeta será média"
      ],
      "metadata": {
        "id": "NTODHxqJDhNK"
      }
    },
    {
      "cell_type": "code",
      "source": [
        "servico_nivel_aceitavel"
      ],
      "metadata": {
        "id": "bm7RVpU6IzEb"
      },
      "execution_count": null,
      "outputs": []
    },
    {
      "cell_type": "code",
      "source": [
        "y_gorjeta_media"
      ],
      "metadata": {
        "id": "BPLOEXOII9ZX"
      },
      "execution_count": null,
      "outputs": []
    },
    {
      "cell_type": "code",
      "source": [
        "ativacao_gorjeta_media = np.fmin(servico_nivel_aceitavel, y_gorjeta_media)# VAMOS FAZER A ANALISE ENTRE OS VALORES / COMPARATIVO, PARA CAPITURAR O MENOR VALOR!!\n",
        "ativacao_gorjeta_media"
      ],
      "metadata": {
        "id": "LHGsFeu0JBjp"
      },
      "execution_count": null,
      "outputs": []
    },
    {
      "cell_type": "markdown",
      "source": [
        "REGRA 3º\n",
        "\n",
        "  * Se o serviço for bom/ótimo e a qualidade da comida for saborosa então, a gorjeta será alta."
      ],
      "metadata": {
        "id": "efEnOr-wDq-8"
      }
    },
    {
      "cell_type": "code",
      "source": [
        "#ACESSANDO OS DADOS\n",
        "servico_nivel_otimo, comida_nivel_saborosa"
      ],
      "metadata": {
        "id": "jxTgPaeDKIue"
      },
      "execution_count": null,
      "outputs": []
    },
    {
      "cell_type": "code",
      "source": [
        "ativacao_regra3 = np.fmax(servico_nivel_otimo, comida_nivel_saborosa) #VAI SER BUSCADO ENTRE OS DOIS VALORES, O VALOR MAIOR\n",
        "ativacao_regra3"
      ],
      "metadata": {
        "id": "Jm4m2ZqAKWQx"
      },
      "execution_count": null,
      "outputs": []
    },
    {
      "cell_type": "code",
      "source": [
        "y_gorjeta_alta"
      ],
      "metadata": {
        "id": "b0JWPq1EKgvb"
      },
      "execution_count": null,
      "outputs": []
    },
    {
      "cell_type": "code",
      "source": [
        "ativacao_gorjeta_alta = np.fmin(ativacao_regra3, y_gorjeta_alta) #VAMOS REALIZAR A COMPARAÇÃO COM TODOS OS VALORES DA MINHA LISTA (ARRAY) | TRAZENDO O MENOR DADO!!\n",
        "ativacao_gorjeta_alta"
      ],
      "metadata": {
        "id": "FrN35v7OKjHT"
      },
      "execution_count": null,
      "outputs": []
    },
    {
      "cell_type": "markdown",
      "source": [
        "GRÁFICO COM AS INTERSECÇÕES"
      ],
      "metadata": {
        "id": "ePLJI6Y7D2Vp"
      }
    },
    {
      "cell_type": "code",
      "source": [
        "#NOSSO EIXO X\n",
        "x_gorjeta"
      ],
      "metadata": {
        "id": "SWQbg3HZLTsp"
      },
      "execution_count": null,
      "outputs": []
    },
    {
      "cell_type": "code",
      "source": [
        "x_gorjeta0 = np.zeros_like(x_gorjeta)\n",
        "x_gorjeta0"
      ],
      "metadata": {
        "id": "eRUZajKfLX8X"
      },
      "execution_count": null,
      "outputs": []
    },
    {
      "cell_type": "code",
      "source": [
        "x_gorjeta.shape, x_gorjeta0.shape"
      ],
      "metadata": {
        "id": "lf86oWtVRPTB"
      },
      "execution_count": null,
      "outputs": []
    },
    {
      "cell_type": "code",
      "source": [
        "ativacao_gorjeta_alta"
      ],
      "metadata": {
        "id": "7_zWwvW8UzgK"
      },
      "execution_count": null,
      "outputs": []
    },
    {
      "cell_type": "code",
      "source": [
        "fig, ax = plt.subplots(figsize = (8,5))\n",
        "ax.fill_between(x_gorjeta, x_gorjeta0, ativacao_gorjeta_baixa, facecolor = 'b')\n",
        "ax.plot(x_gorjeta, y_gorjeta_baixa, 'b')\n",
        "ax.fill_between(x_gorjeta, x_gorjeta0, ativacao_gorjeta_media, facecolor = 'g')\n",
        "ax.plot(x_gorjeta, y_gorjeta_media, 'g')\n",
        "ax.fill_between(x_gorjeta, x_gorjeta0, ativacao_gorjeta_alta, facecolor = 'r')\n",
        "ax.plot(x_gorjeta, y_gorjeta_alta, 'r')\n",
        "ax.set_title('Saida Interligadas');\n"
      ],
      "metadata": {
        "id": "x-wthtu0TTvq"
      },
      "execution_count": null,
      "outputs": []
    },
    {
      "cell_type": "markdown",
      "source": [
        "DEFUZZIFICAÇÃO\n",
        "\n",
        "  METODOS DE DIFUZZIFICAÇÃO QUE PODEM SER USADOS!\n",
        "\n",
        "    * centroid(centroid)\n",
        "    * bisector(bisector)\n",
        "    * mean of maximum (mom)\n",
        "    * min of maximum (som)\n",
        "    * max of maximum (lom)"
      ],
      "metadata": {
        "id": "obf40_S9D7mf"
      }
    },
    {
      "cell_type": "code",
      "source": [
        "ativacao_gorjeta_baixa"
      ],
      "metadata": {
        "id": "wCbsuUDekMtR"
      },
      "execution_count": null,
      "outputs": []
    },
    {
      "cell_type": "code",
      "source": [
        "ativacao_gorjeta_media"
      ],
      "metadata": {
        "id": "fob1KXgHkQmL"
      },
      "execution_count": null,
      "outputs": []
    },
    {
      "cell_type": "code",
      "source": [
        "ativacao_gorjeta_baixa"
      ],
      "metadata": {
        "id": "tWBXe9yakTO8"
      },
      "execution_count": null,
      "outputs": []
    },
    {
      "cell_type": "code",
      "source": [
        "np.fmax(ativacao_gorjeta_media, ativacao_gorjeta_alta)"
      ],
      "metadata": {
        "id": "9mAPCI6xkbbv"
      },
      "execution_count": null,
      "outputs": []
    },
    {
      "cell_type": "code",
      "source": [
        "controle = np.fmax(ativacao_gorjeta_baixa, np.fmax(ativacao_gorjeta_media, ativacao_gorjeta_alta))\n",
        "controle"
      ],
      "metadata": {
        "id": "a0_2zp8Ui43n"
      },
      "execution_count": null,
      "outputs": []
    }
  ]
}