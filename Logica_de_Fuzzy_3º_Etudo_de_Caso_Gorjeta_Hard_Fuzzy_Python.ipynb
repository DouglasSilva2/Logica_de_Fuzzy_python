{
  "nbformat": 4,
  "nbformat_minor": 0,
  "metadata": {
    "colab": {
      "provenance": [],
      "authorship_tag": "ABX9TyN/nMFplqNgPKMhXzSLKsQl"
    },
    "kernelspec": {
      "name": "python3",
      "display_name": "Python 3"
    },
    "language_info": {
      "name": "python"
    }
  },
  "cells": [
    {
      "cell_type": "markdown",
      "source": [
        "\n",
        "\n",
        "**LOGICA DE FUZZY COM PYTHON: ESTUDO DE CASO GORJETA **\n",
        "\n",
        "# **Antecedentes ( ENTRADAS )**\n",
        "\n",
        "Servio: que nota você daria para o serviço, em uma escala de 0 a 10\n",
        "\n",
        "    * Ruim, Aceitável, ótimo\n",
        "\n",
        "Qualidade da comida: quão boa estava a comida, em uma escala de 0 a 10\n",
        "\n",
        "    * Ruim, boa, Saborosa\n",
        "\n",
        "# **Consequentes ( SAÍDAS )**\n",
        "\n",
        "Gorjetas: quanta gorjeta você daria, entre 0% e 20%\n",
        "\n",
        "    * Baixa, média, alta\n",
        "\n",
        "# **REGRAS!!**\n",
        "\n",
        "  * Se a qualidade da comida for ruim ou o serviço for ruim então, a gorjeta será baixa.\n",
        "  * Se o serviço for médio então, a gorjeta será média\n",
        "\n",
        "  * Se o serviço for bom e a qualidade da comida for saborosa, então a gorjeta sera alta\n",
        "\n"
      ],
      "metadata": {
        "id": "zqZPVoMXVsE_"
      }
    },
    {
      "cell_type": "markdown",
      "source": [
        "# **IMPORTAÇÃO DA BIBLIOTECAS **"
      ],
      "metadata": {
        "id": "9YMTmudlWdb9"
      }
    },
    {
      "cell_type": "code",
      "execution_count": 3,
      "metadata": {
        "colab": {
          "base_uri": "https://localhost:8080/"
        },
        "id": "p09MJH6gVXbs",
        "outputId": "2808cecb-6533-49ab-8ff0-500b1bfa5c3e"
      },
      "outputs": [
        {
          "output_type": "stream",
          "name": "stdout",
          "text": [
            "Requirement already satisfied: scikit-fuzzy in /usr/local/lib/python3.10/dist-packages (0.4.2)\n",
            "Requirement already satisfied: numpy>=1.6.0 in /usr/local/lib/python3.10/dist-packages (from scikit-fuzzy) (1.25.2)\n",
            "Requirement already satisfied: scipy>=0.9.0 in /usr/local/lib/python3.10/dist-packages (from scikit-fuzzy) (1.11.4)\n",
            "Requirement already satisfied: networkx>=1.9.0 in /usr/local/lib/python3.10/dist-packages (from scikit-fuzzy) (3.3)\n"
          ]
        }
      ],
      "source": [
        "!pip install scikit-fuzzy"
      ]
    },
    {
      "cell_type": "code",
      "source": [
        "import numpy as np\n",
        "import skfuzzy as fuzzy\n",
        "import matplotlib.pyplot as plt"
      ],
      "metadata": {
        "id": "sYc7NaEjq3IF"
      },
      "execution_count": 4,
      "outputs": []
    },
    {
      "cell_type": "markdown",
      "source": [
        "**ANTECENDENTES E CONSEQUENTES**\n",
        "\n",
        "\n"
      ],
      "metadata": {
        "id": "_MTa7r5xq-XV"
      }
    },
    {
      "cell_type": "code",
      "source": [],
      "metadata": {
        "id": "uSMmwqIZrjbc"
      },
      "execution_count": null,
      "outputs": []
    },
    {
      "cell_type": "code",
      "source": [
        "np.arange(0, 11, 1)\n"
      ],
      "metadata": {
        "colab": {
          "base_uri": "https://localhost:8080/"
        },
        "id": "vETr76D-rjrC",
        "outputId": "6d4b3ce6-220a-407b-c979-704b96908a68"
      },
      "execution_count": 5,
      "outputs": [
        {
          "output_type": "execute_result",
          "data": {
            "text/plain": [
              "array([ 0,  1,  2,  3,  4,  5,  6,  7,  8,  9, 10])"
            ]
          },
          "metadata": {},
          "execution_count": 5
        }
      ]
    },
    {
      "cell_type": "code",
      "source": [
        "np.arange(0, 11, 1)"
      ],
      "metadata": {
        "colab": {
          "base_uri": "https://localhost:8080/"
        },
        "id": "fhQXH2P3roze",
        "outputId": "d8c3c98d-e342-4996-fb33-a50c53a7b3de"
      },
      "execution_count": 7,
      "outputs": [
        {
          "output_type": "execute_result",
          "data": {
            "text/plain": [
              "array([ 0,  1,  2,  3,  4,  5,  6,  7,  8,  9, 10])"
            ]
          },
          "metadata": {},
          "execution_count": 7
        }
      ]
    },
    {
      "cell_type": "code",
      "source": [
        "#criando as variaveis com array de 10 possições!\n",
        "#intervalos possiveis para os resultados!!\n",
        "x_comida = np.arange(0, 11, 1)\n",
        "x_servico = np.arange(0, 11, 1)\n",
        "x_gorjeta = np.arange(0, 21, 1)"
      ],
      "metadata": {
        "id": "zD_ua-qPrF_b"
      },
      "execution_count": 9,
      "outputs": []
    },
    {
      "cell_type": "code",
      "source": [
        "x_comida, x_servico, x_gorjeta"
      ],
      "metadata": {
        "colab": {
          "base_uri": "https://localhost:8080/"
        },
        "id": "GJrHIIc9rqV7",
        "outputId": "90f5801b-36a0-4adb-dd82-8d5e9093082c"
      },
      "execution_count": 8,
      "outputs": [
        {
          "output_type": "execute_result",
          "data": {
            "text/plain": [
              "(array([ 0,  1,  2,  3,  4,  5,  6,  7,  8,  9, 10]),\n",
              " array([ 0,  1,  2,  3,  4,  5,  6,  7,  8,  9, 10]),\n",
              " array([ 0,  1,  2,  3,  4,  5,  6,  7,  8,  9, 10, 11, 12, 13, 14, 15, 16,\n",
              "        17, 18, 19, 20]))"
            ]
          },
          "metadata": {},
          "execution_count": 8
        }
      ]
    },
    {
      "cell_type": "markdown",
      "source": [
        "QUALIDADE DA COMIDA!!"
      ],
      "metadata": {
        "id": "g_62_J6MsR1_"
      }
    },
    {
      "cell_type": "code",
      "source": [
        "y_comida_ruim = fuzzy.trimf(x_comida, [0, 0, 5])"
      ],
      "metadata": {
        "id": "OBq4oirssRQA"
      },
      "execution_count": 10,
      "outputs": []
    },
    {
      "cell_type": "code",
      "source": [
        "#QUANDO DEFINIMOS UMA PARAMETRO [0, 0, 5], O VALOR DE DECAIMENTO SERA DEPOIS DE 5 POSSIÇÕES, SENDO QUE NOSSO ARRAY SERIA DE 10\n",
        "#TEREMOS O SEGUINTE RESULTADO:\n",
        "y_comida_ruim"
      ],
      "metadata": {
        "colab": {
          "base_uri": "https://localhost:8080/"
        },
        "id": "oc_K3CXfsbGc",
        "outputId": "e401177a-f4c5-406a-806e-62a758f2bae2"
      },
      "execution_count": 13,
      "outputs": [
        {
          "output_type": "execute_result",
          "data": {
            "text/plain": [
              "array([1. , 0.8, 0.6, 0.4, 0.2, 0. , 0. , 0. , 0. , 0. , 0. ])"
            ]
          },
          "metadata": {},
          "execution_count": 13
        }
      ]
    }
  ]
}