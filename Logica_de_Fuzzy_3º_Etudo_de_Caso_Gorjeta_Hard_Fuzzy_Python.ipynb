{
  "nbformat": 4,
  "nbformat_minor": 0,
  "metadata": {
    "colab": {
      "provenance": [],
      "authorship_tag": "ABX9TyNOH7f8YzsbEd8Feqvolr+i"
    },
    "kernelspec": {
      "name": "python3",
      "display_name": "Python 3"
    },
    "language_info": {
      "name": "python"
    }
  },
  "cells": [
    {
      "cell_type": "markdown",
      "source": [
        "\n",
        "\n",
        "**LOGICA DE FUZZY COM PYTHON: ESTUDO DE CASO GORJETA **\n",
        "\n",
        "# **Antecedentes ( ENTRADAS )**\n",
        "\n",
        "Servio: que nota você daria para o serviço, em uma escala de 0 a 10\n",
        "\n",
        "    * Ruim, Aceitável, ótimo\n",
        "\n",
        "Qualidade da comida: quão boa estava a comida, em uma escala de 0 a 10\n",
        "\n",
        "    * Ruim, boa, Saborosa\n",
        "\n",
        "# **Consequentes ( SAÍDAS )**\n",
        "\n",
        "Gorjetas: quanta gorjeta você daria, entre 0% e 20%\n",
        "\n",
        "    * Baixa, média, alta\n",
        "\n",
        "# **REGRAS!!**\n",
        "\n",
        "  * Se a qualidade da comida for ruim ou o serviço for ruim então, a gorjeta será baixa.\n",
        "  * Se o serviço for médio então, a gorjeta será média\n",
        "\n",
        "  * Se o serviço for bom e a qualidade da comida for saborosa, então a gorjeta sera alta\n",
        "\n"
      ],
      "metadata": {
        "id": "zqZPVoMXVsE_"
      }
    },
    {
      "cell_type": "markdown",
      "source": [
        "# **IMPORTAÇÃO DA BIBLIOTECAS **"
      ],
      "metadata": {
        "id": "9YMTmudlWdb9"
      }
    },
    {
      "cell_type": "code",
      "execution_count": 38,
      "metadata": {
        "colab": {
          "base_uri": "https://localhost:8080/"
        },
        "id": "p09MJH6gVXbs",
        "outputId": "7efda936-068f-49fc-de30-87cb14a506c7"
      },
      "outputs": [
        {
          "output_type": "stream",
          "name": "stdout",
          "text": [
            "Requirement already satisfied: scikit-fuzzy in /usr/local/lib/python3.10/dist-packages (0.4.2)\n",
            "Requirement already satisfied: numpy>=1.6.0 in /usr/local/lib/python3.10/dist-packages (from scikit-fuzzy) (1.25.2)\n",
            "Requirement already satisfied: scipy>=0.9.0 in /usr/local/lib/python3.10/dist-packages (from scikit-fuzzy) (1.11.4)\n",
            "Requirement already satisfied: networkx>=1.9.0 in /usr/local/lib/python3.10/dist-packages (from scikit-fuzzy) (3.3)\n"
          ]
        }
      ],
      "source": [
        "!pip install scikit-fuzzy"
      ]
    },
    {
      "cell_type": "code",
      "source": [
        "import numpy as np\n",
        "import skfuzzy as fuzzy\n",
        "import matplotlib.pyplot as plt"
      ],
      "metadata": {
        "id": "sYc7NaEjq3IF"
      },
      "execution_count": 39,
      "outputs": []
    },
    {
      "cell_type": "markdown",
      "source": [
        "**ANTECENDENTES E CONSEQUENTES**\n",
        "\n",
        "\n"
      ],
      "metadata": {
        "id": "_MTa7r5xq-XV"
      }
    },
    {
      "cell_type": "code",
      "source": [],
      "metadata": {
        "id": "uSMmwqIZrjbc"
      },
      "execution_count": 39,
      "outputs": []
    },
    {
      "cell_type": "code",
      "source": [
        "np.arange(0, 11, 1)\n"
      ],
      "metadata": {
        "colab": {
          "base_uri": "https://localhost:8080/"
        },
        "id": "vETr76D-rjrC",
        "outputId": "78001936-2c3a-4e31-ac04-321325031f40"
      },
      "execution_count": 40,
      "outputs": [
        {
          "output_type": "execute_result",
          "data": {
            "text/plain": [
              "array([ 0,  1,  2,  3,  4,  5,  6,  7,  8,  9, 10])"
            ]
          },
          "metadata": {},
          "execution_count": 40
        }
      ]
    },
    {
      "cell_type": "code",
      "source": [
        "np.arange(0, 11, 1)"
      ],
      "metadata": {
        "colab": {
          "base_uri": "https://localhost:8080/"
        },
        "id": "fhQXH2P3roze",
        "outputId": "83c35cc3-7f22-4f76-ec59-5880a10a8940"
      },
      "execution_count": 41,
      "outputs": [
        {
          "output_type": "execute_result",
          "data": {
            "text/plain": [
              "array([ 0,  1,  2,  3,  4,  5,  6,  7,  8,  9, 10])"
            ]
          },
          "metadata": {},
          "execution_count": 41
        }
      ]
    },
    {
      "cell_type": "code",
      "source": [
        "#criando as variaveis com array de 10 possições!\n",
        "#intervalos possiveis para os resultados!!\n",
        "x_comida = np.arange(0, 11, 1)\n",
        "x_servico = np.arange(0, 11, 1)\n",
        "x_gorjeta = np.arange(0, 21, 1)"
      ],
      "metadata": {
        "id": "zD_ua-qPrF_b"
      },
      "execution_count": 42,
      "outputs": []
    },
    {
      "cell_type": "code",
      "source": [
        "x_comida, x_servico, x_gorjeta"
      ],
      "metadata": {
        "colab": {
          "base_uri": "https://localhost:8080/"
        },
        "id": "GJrHIIc9rqV7",
        "outputId": "2ff3ed22-e591-4058-fed5-edc554af1534"
      },
      "execution_count": 43,
      "outputs": [
        {
          "output_type": "execute_result",
          "data": {
            "text/plain": [
              "(array([ 0,  1,  2,  3,  4,  5,  6,  7,  8,  9, 10]),\n",
              " array([ 0,  1,  2,  3,  4,  5,  6,  7,  8,  9, 10]),\n",
              " array([ 0,  1,  2,  3,  4,  5,  6,  7,  8,  9, 10, 11, 12, 13, 14, 15, 16,\n",
              "        17, 18, 19, 20]))"
            ]
          },
          "metadata": {},
          "execution_count": 43
        }
      ]
    },
    {
      "cell_type": "markdown",
      "source": [
        "QUALIDADE DA COMIDA!!"
      ],
      "metadata": {
        "id": "g_62_J6MsR1_"
      }
    },
    {
      "cell_type": "code",
      "source": [
        "y_comida_ruim = fuzzy.trimf(x_comida, [0, 0, 5])\n",
        "y_comida_boa = fuzzy.trimf(x_comida, [0, 5, 10])\n",
        "y_comida_saborosa = fuzzy.trimf(x_comida, [5, 10, 10])"
      ],
      "metadata": {
        "id": "OBq4oirssRQA"
      },
      "execution_count": 44,
      "outputs": []
    },
    {
      "cell_type": "code",
      "source": [
        "#QUANDO DEFINIMOS UMA PARAMETRO [0, 0, 5], O VALOR DE DECAIMENTO SERA DEPOIS DE 5 POSSIÇÕES, SENDO QUE NOSSO ARRAY SERIA DE 10\n",
        "#TEREMOS O SEGUINTE RESULTADO:\n",
        "y_comida_ruim, y_comida_boa, y_comida_saborosa"
      ],
      "metadata": {
        "colab": {
          "base_uri": "https://localhost:8080/"
        },
        "id": "oc_K3CXfsbGc",
        "outputId": "246fddd8-d479-47fa-9e94-c6f8bb4a3d64"
      },
      "execution_count": 36,
      "outputs": [
        {
          "output_type": "execute_result",
          "data": {
            "text/plain": [
              "(array([1. , 0.8, 0.6, 0.4, 0.2, 0. , 0. , 0. , 0. , 0. , 0. ]),\n",
              " array([0. , 0.2, 0.4, 0.6, 0.8, 1. , 0.8, 0.6, 0.4, 0.2, 0. ]),\n",
              " array([0. , 0. , 0. , 0. , 0. , 0. , 0.2, 0.4, 0.6, 0.8, 1. ]))"
            ]
          },
          "metadata": {},
          "execution_count": 36
        }
      ]
    },
    {
      "cell_type": "code",
      "source": [
        "#analisando os valores para grafico!\n",
        "x_comida, y_comida_ruim"
      ],
      "metadata": {
        "colab": {
          "base_uri": "https://localhost:8080/"
        },
        "id": "c98Mx8ydtott",
        "outputId": "d4c6a225-61e7-44cf-9e4d-15ef982cc1df"
      },
      "execution_count": 45,
      "outputs": [
        {
          "output_type": "execute_result",
          "data": {
            "text/plain": [
              "(array([ 0,  1,  2,  3,  4,  5,  6,  7,  8,  9, 10]),\n",
              " array([1. , 0.8, 0.6, 0.4, 0.2, 0. , 0. , 0. , 0. , 0. , 0. ]))"
            ]
          },
          "metadata": {},
          "execution_count": 45
        }
      ]
    },
    {
      "cell_type": "code",
      "source": [
        "plt.plot(x_comida, y_comida_ruim, 'bo', label = 'Ruim')\n",
        "plt.plot(x_comida, y_comida_ruim)#exibir a linha com leable!\n",
        "plt.legend();#remover o erro que aparece de Metasploit!\n"
      ],
      "metadata": {
        "colab": {
          "base_uri": "https://localhost:8080/",
          "height": 430
        },
        "id": "UzbEuaEXt1G9",
        "outputId": "8cfe0bb4-0557-4982-909e-4dfdf7359825"
      },
      "execution_count": 46,
      "outputs": [
        {
          "output_type": "display_data",
          "data": {
            "text/plain": [
              "<Figure size 640x480 with 1 Axes>"
            ],
            "image/png": "[encoded data removed]"
          },
          "metadata": {}
        }
      ]
    },
    {
      "cell_type": "code",
      "source": [
        "x_comida, y_comida_boa"
      ],
      "metadata": {
        "colab": {
          "base_uri": "https://localhost:8080/"
        },
        "id": "9P3j6C4fuuEb",
        "outputId": "a7a2d336-617c-4e3b-9d5a-b2b0ea623988"
      },
      "execution_count": 47,
      "outputs": [
        {
          "output_type": "execute_result",
          "data": {
            "text/plain": [
              "(array([ 0,  1,  2,  3,  4,  5,  6,  7,  8,  9, 10]),\n",
              " array([0. , 0.2, 0.4, 0.6, 0.8, 1. , 0.8, 0.6, 0.4, 0.2, 0. ]))"
            ]
          },
          "metadata": {},
          "execution_count": 47
        }
      ]
    },
    {
      "cell_type": "code",
      "source": [
        "plt.plot(x_comida, y_comida_boa, 'bo', label = 'Boa')\n",
        "plt.plot(x_comida, y_comida_boa)#exibir a linha com leable!\n",
        "plt.legend();#remover o erro que aparece de Metasploit!\n"
      ],
      "metadata": {
        "colab": {
          "base_uri": "https://localhost:8080/",
          "height": 430
        },
        "id": "KniQ9VCzv0CH",
        "outputId": "b69931fc-3a35-4d4f-fd90-abd533621a95"
      },
      "execution_count": 48,
      "outputs": [
        {
          "output_type": "display_data",
          "data": {
            "text/plain": [
              "<Figure size 640x480 with 1 Axes>"
            ],
            "image/png": "[encoded data removed]"
          },
          "metadata": {}
        }
      ]
    },
    {
      "cell_type": "code",
      "source": [
        "x_comida, y_comida_saborosa"
      ],
      "metadata": {
        "id": "AZ2rLJeKwRs0",
        "outputId": "ec4794b5-a7da-4bfb-c012-ce2dd2c0e7e8",
        "colab": {
          "base_uri": "https://localhost:8080/"
        }
      },
      "execution_count": 49,
      "outputs": [
        {
          "output_type": "execute_result",
          "data": {
            "text/plain": [
              "(array([ 0,  1,  2,  3,  4,  5,  6,  7,  8,  9, 10]),\n",
              " array([0. , 0. , 0. , 0. , 0. , 0. , 0.2, 0.4, 0.6, 0.8, 1. ]))"
            ]
          },
          "metadata": {},
          "execution_count": 37
        },
        {
          "output_type": "execute_result",
          "data": {
            "text/plain": [
              "(array([ 0,  1,  2,  3,  4,  5,  6,  7,  8,  9, 10]),\n",
              " array([0. , 0. , 0. , 0. , 0. , 0. , 0.2, 0.4, 0.6, 0.8, 1. ]))"
            ]
          },
          "metadata": {},
          "execution_count": 49
        }
      ]
    },
    {
      "cell_type": "code",
      "source": [
        "plt.plot(x_comida, y_comida_saborosa, 'bo', label = 'Saborosa')\n",
        "plt.plot(x_comida, y_comida_saborosa)#exibir a linha com leable!\n",
        "plt.legend();#remover o erro que aparece de Metasploit!"
      ],
      "metadata": {
        "id": "jayKmKjUwfOt",
        "outputId": "48d8789f-2f2d-4d25-914c-6dabf74cfbbd",
        "colab": {
          "base_uri": "https://localhost:8080/",
          "height": 430
        }
      },
      "execution_count": 51,
      "outputs": [
        {
          "output_type": "display_data",
          "data": {
            "text/plain": [
              "<Figure size 640x480 with 1 Axes>"
            ],
            "image/png": "[encoded data removed]"
          },
          "metadata": {}
        }
      ]
    }
  ]
}