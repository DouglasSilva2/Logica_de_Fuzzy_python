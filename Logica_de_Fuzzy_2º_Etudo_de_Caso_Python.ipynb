{
  "nbformat": 4,
  "nbformat_minor": 0,
  "metadata": {
    "colab": {
      "provenance": [],
      "authorship_tag": "ABX9TyMYKl35mW+E66HBUDEDreGr"
    },
    "kernelspec": {
      "name": "python3",
      "display_name": "Python 3"
    },
    "language_info": {
      "name": "python"
    }
  },
  "cells": [
    {
      "cell_type": "markdown",
      "source": [
        "# **ANTECENDENTES** (Entrada)\n",
        "\n",
        "Superficie: qual o nivel de dificuldade da superficie, em uma escala de 0 a 5\n",
        "\n",
        "    * Facil, Moderada, Dificil\n",
        "\n",
        "  Sujeira: Qual a quantidade de sujeira, em uma escala de 0 a 5\n",
        "\n",
        "    * Leve, Moderada, Pesada\n",
        "\n",
        "# **CONSEQUENTE** (Saida)\n",
        "\n",
        "Sucção: Qual o nivel de sucção que o aspirador de pó deve ser configurado, entre 0% e 10%\n",
        "\n",
        "    * Baixo, Medio, Alto\n",
        "\n",
        "# **REGRAS**\n",
        "\n",
        "  * Se a superficie for facil e a sujeira for leve, então, a sucção será baixa\n",
        "\n",
        "  * Se a superficie for moderada e a sujeira for leve, então, a sucção será média\n",
        "\n",
        "  * Se a superficie for difícil ou a sujeira for pesada, então, a sucção será alta\n",
        "\n",
        "  * Se a superficie for moderada então, a sucção será média"
      ],
      "metadata": {
        "id": "bvy3_CzEDhjg"
      }
    },
    {
      "cell_type": "code",
      "source": [],
      "metadata": {
        "id": "rq3x5c_7E1vn"
      },
      "execution_count": null,
      "outputs": []
    }
  ]
}