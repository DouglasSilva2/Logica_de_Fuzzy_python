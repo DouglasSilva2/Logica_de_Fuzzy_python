{
  "nbformat": 4,
  "nbformat_minor": 0,
  "metadata": {
    "colab": {
      "provenance": [],
      "authorship_tag": "ABX9TyOtV0qRyAD9zshIi16XyXhx"
    },
    "kernelspec": {
      "name": "python3",
      "display_name": "Python 3"
    },
    "language_info": {
      "name": "python"
    }
  },
  "cells": [
    {
      "cell_type": "markdown",
      "source": [
        "**LOGICA DE FUZZY COM PYTHON: ESTUDO DE CASO GORJETA **"
      ],
      "metadata": {
        "id": "_IP4PME4asqU"
      }
    },
    {
      "cell_type": "markdown",
      "source": [
        "Antecedentes ( ENTRADAS )\n",
        "\n",
        "Servio: que nota você daria para o serviço, em uma escala de 0 a 10\n",
        "\n",
        "  * Ruim, Aceitável, ótimo\n",
        "\n",
        "Qualidade da comida: quão boa estava a comida, em uma escala de 0 a 10\n",
        "\n",
        "  * Ruim, boa, Saborosa\n",
        "\n",
        "Consequentes ( SAÍDAS )\n",
        "\n",
        "Gorjetas: quanta gorjeta você daria, entre 0% e 20%\n",
        "\n",
        "  * Baixa, média, alta\n",
        "\n",
        "REGRAS!!\n",
        "\n",
        "    * Se a qualidade da comida for ruim ou o serviço for ruim então, a gorjeta será baixa.\n",
        "    * Se o serviço for médio então, a gorjeta será média\n",
        "    * Se o serviço for bom e a qualidade da comida for saborosa, então a gorjeta sera alta\n"
      ],
      "metadata": {
        "id": "GhtSpMx2a82Z"
      }
    },
    {
      "cell_type": "markdown",
      "source": [
        "**Instalação e importação das bibliotecas**\n",
        "\n",
        "    * Documentação: https://pythonhosted.org/scikit-fuzzy/overview.html\n"
      ],
      "metadata": {
        "id": "TY4zGSqirHYa"
      }
    },
    {
      "cell_type": "code",
      "execution_count": 1,
      "metadata": {
        "colab": {
          "base_uri": "https://localhost:8080/"
        },
        "id": "vGducGaWTeEU",
        "outputId": "4f395fa1-07e4-44a2-830e-eddfdec14bc3"
      },
      "outputs": [
        {
          "output_type": "stream",
          "name": "stdout",
          "text": [
            "Collecting scikit-fuzzy\n",
            "  Downloading scikit-fuzzy-0.4.2.tar.gz (993 kB)\n",
            "\u001b[2K     \u001b[90m━━━━━━━━━━━━━━━━━━━━━━━━━━━━━━━━━━━━━━━━\u001b[0m \u001b[32m994.0/994.0 kB\u001b[0m \u001b[31m5.5 MB/s\u001b[0m eta \u001b[36m0:00:00\u001b[0m\n",
            "\u001b[?25h  Preparing metadata (setup.py) ... \u001b[?25l\u001b[?25hdone\n",
            "Requirement already satisfied: numpy>=1.6.0 in /usr/local/lib/python3.10/dist-packages (from scikit-fuzzy) (1.25.2)\n",
            "Requirement already satisfied: scipy>=0.9.0 in /usr/local/lib/python3.10/dist-packages (from scikit-fuzzy) (1.11.4)\n",
            "Requirement already satisfied: networkx>=1.9.0 in /usr/local/lib/python3.10/dist-packages (from scikit-fuzzy) (3.3)\n",
            "Building wheels for collected packages: scikit-fuzzy\n",
            "  Building wheel for scikit-fuzzy (setup.py) ... \u001b[?25l\u001b[?25hdone\n",
            "  Created wheel for scikit-fuzzy: filename=scikit_fuzzy-0.4.2-py3-none-any.whl size=894078 sha256=9a0fc5d421731e3eba3901d6e4218e16bb35828ebc7ca37e8bdbc6622aea1451\n",
            "  Stored in directory: /root/.cache/pip/wheels/4f/86/1b/dfd97134a2c8313e519bcebd95d3fedc7be7944db022094bc8\n",
            "Successfully built scikit-fuzzy\n",
            "Installing collected packages: scikit-fuzzy\n",
            "Successfully installed scikit-fuzzy-0.4.2\n"
          ]
        }
      ],
      "source": [
        "#INSTALAÇÃO DA BIBLIOTECA PIP PARA USO!!\n",
        "!pip install scikit-fuzzy"
      ]
    },
    {
      "cell_type": "code",
      "source": [
        "import numpy as np #biblioteca cientifica do Python!!\n",
        "import skfuzzy as fuzzy # Biblioteca de Fuzzy!!!\n",
        "from skfuzzy import control as ctrl #importação da biblioteca de controle"
      ],
      "metadata": {
        "id": "QrZgDuUYrscs"
      },
      "execution_count": 2,
      "outputs": []
    },
    {
      "cell_type": "markdown",
      "source": [
        "***ANTECEDENTES E CONSEQUENTE***"
      ],
      "metadata": {
        "id": "AiEMdC9LtVFR"
      }
    },
    {
      "cell_type": "code",
      "source": [
        "np.arange(0, 11, 1)"
      ],
      "metadata": {
        "colab": {
          "base_uri": "https://localhost:8080/"
        },
        "id": "Xs9rj0H_tIOg",
        "outputId": "c5bedd79-0742-41bb-e974-028b386973db"
      },
      "execution_count": 3,
      "outputs": [
        {
          "output_type": "execute_result",
          "data": {
            "text/plain": [
              "array([ 0,  1,  2,  3,  4,  5,  6,  7,  8,  9, 10])"
            ]
          },
          "metadata": {},
          "execution_count": 3
        }
      ]
    },
    {
      "cell_type": "code",
      "source": [
        "#Criando as duas variaveis correlacionadas ao antecedentes = Qualidade e Serviço!!\n",
        "qualidade = ctrl.Antecedent(np.arange(0, 11, 1), 'qualidade')\n",
        "servico = ctrl.Antecedent(np.arange(0, 11, 1), 'servico')"
      ],
      "metadata": {
        "id": "9C6rcb8esj9S"
      },
      "execution_count": 4,
      "outputs": []
    },
    {
      "cell_type": "code",
      "source": [
        "qualidade #visualizando o tipo de variavel"
      ],
      "metadata": {
        "colab": {
          "base_uri": "https://localhost:8080/"
        },
        "id": "xCSJMPOcyW6_",
        "outputId": "cf903caa-fc10-43d4-8616-b9083be6a1ab"
      },
      "execution_count": 5,
      "outputs": [
        {
          "output_type": "execute_result",
          "data": {
            "text/plain": [
              "Antecedent: qualidade"
            ]
          },
          "metadata": {},
          "execution_count": 5
        }
      ]
    },
    {
      "cell_type": "code",
      "source": [
        "qualidade.universe #Verificar os possiveis valores para essa variavel ! / Valores que podem ser informados!!"
      ],
      "metadata": {
        "colab": {
          "base_uri": "https://localhost:8080/"
        },
        "id": "EfeC50W8yZ2s",
        "outputId": "2d675394-b539-4fef-b486-faa8ec4614fa"
      },
      "execution_count": 6,
      "outputs": [
        {
          "output_type": "execute_result",
          "data": {
            "text/plain": [
              "array([ 0,  1,  2,  3,  4,  5,  6,  7,  8,  9, 10])"
            ]
          },
          "metadata": {},
          "execution_count": 6
        }
      ]
    },
    {
      "cell_type": "code",
      "source": [
        "gorjeta = ctrl.Consequent(np.arange(0, 21, 1), 'gorjeta')"
      ],
      "metadata": {
        "id": "q_FW9_09y5Z1"
      },
      "execution_count": 8,
      "outputs": []
    },
    {
      "cell_type": "code",
      "source": [
        "gorjeta.universe"
      ],
      "metadata": {
        "colab": {
          "base_uri": "https://localhost:8080/"
        },
        "id": "_qMLlWevB71b",
        "outputId": "c636c8b1-3025-4f3d-9307-d65b8cc25135"
      },
      "execution_count": 9,
      "outputs": [
        {
          "output_type": "execute_result",
          "data": {
            "text/plain": [
              "array([ 0,  1,  2,  3,  4,  5,  6,  7,  8,  9, 10, 11, 12, 13, 14, 15, 16,\n",
              "       17, 18, 19, 20])"
            ]
          },
          "metadata": {},
          "execution_count": 9
        }
      ]
    },
    {
      "cell_type": "markdown",
      "source": [
        "**MENBERSHIP FUNCTIONS *** FUNÇÃO DE PERTINENCIA PARA GERAR GRAFICOS!!!\n"
      ],
      "metadata": {
        "id": "V6NdMlnmCS0r"
      }
    },
    {
      "cell_type": "code",
      "source": [
        "qualidade.automf(number = 3, names = [ 'ruim', 'boa', 'saborosa'])\n",
        "servico.automf(number = 3, names = ['ruim', 'aceitável', 'ótimo'])"
      ],
      "metadata": {
        "id": "ti0uwowODaA_"
      },
      "execution_count": 10,
      "outputs": []
    },
    {
      "cell_type": "code",
      "source": [
        "qualidade.view()"
      ],
      "metadata": {
        "colab": {
          "base_uri": "https://localhost:8080/",
          "height": 451
        },
        "id": "7XUFobC9E17S",
        "outputId": "8525a3b5-dbf8-43bb-9811-703ac189fe18"
      },
      "execution_count": 12,
      "outputs": [
        {
          "output_type": "display_data",
          "data": {
            "text/plain": [
              "<Figure size 640x480 with 1 Axes>"
            ],
            "image/png": "[encoded data removed]"
          },
          "metadata": {}
        }
      ]
    }
  ]
}