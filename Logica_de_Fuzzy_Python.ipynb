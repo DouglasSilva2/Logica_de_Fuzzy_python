{
  "nbformat": 4,
  "nbformat_minor": 0,
  "metadata": {
    "colab": {
      "provenance": [],
      "authorship_tag": "ABX9TyMhXPT+gdDFx38NeF6XRWrK"
    },
    "kernelspec": {
      "name": "python3",
      "display_name": "Python 3"
    },
    "language_info": {
      "name": "python"
    }
  },
  "cells": [
    {
      "cell_type": "markdown",
      "source": [
        "**LOGICA DE FUZZY COM PYTHON: ESTUDO DE CASO GORJETA **"
      ],
      "metadata": {
        "id": "_IP4PME4asqU"
      }
    },
    {
      "cell_type": "markdown",
      "source": [
        "Antecedentes ( ENTRADAS )\n",
        "\n",
        "Servio: que nota você daria para o serviço, em uma escala de 0 a 10\n",
        "\n",
        "  * Ruim, Aceitável, ótimo\n",
        "\n",
        "Qualidade da comida: quão boa estava a comida, em uma escala de 0 a 10\n",
        "\n",
        "  * Ruim, boa, Saborosa\n",
        "\n",
        "Consequentes ( SAÍDAS )\n",
        "\n",
        "Gorjetas: quanta gorjeta você daria, entre 0% e 20%\n",
        "\n",
        "  * Baixa, média, alta\n",
        "\n",
        "REGRAS!!\n",
        "\n",
        "    * Se a qualidade da comida for ruim ou o serviço for ruim então, a gorjeta será baixa.\n",
        "    * Se o serviço for médio então, a gorjeta será média\n",
        "    * Se o serviço for bom e a qualidade da comida for saborosa, então a gorjeta sera alta\n"
      ],
      "metadata": {
        "id": "GhtSpMx2a82Z"
      }
    },
    {
      "cell_type": "code",
      "execution_count": null,
      "metadata": {
        "id": "vGducGaWTeEU"
      },
      "outputs": [],
      "source": []
    },
    {
      "cell_type": "markdown",
      "source": [],
      "metadata": {
        "id": "V09CiXvcavo6"
      }
    }
  ]
}